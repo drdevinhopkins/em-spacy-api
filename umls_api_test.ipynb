{
 "metadata": {
  "language_info": {
   "codemirror_mode": {
    "name": "ipython",
    "version": 3
   },
   "file_extension": ".py",
   "mimetype": "text/x-python",
   "name": "python",
   "nbconvert_exporter": "python",
   "pygments_lexer": "ipython3",
   "version": "3.9.4"
  },
  "orig_nbformat": 2,
  "kernelspec": {
   "name": "python394jvsc74a57bd09f9eba12e426867be2b5dda846bb0767720ed0b719bca446c172ea76a6032e46",
   "display_name": "Python 3.9.4 64-bit ('em-spacy': conda)"
  },
  "metadata": {
   "interpreter": {
    "hash": "9f9eba12e426867be2b5dda846bb0767720ed0b719bca446c172ea76a6032e46"
   }
  }
 },
 "nbformat": 4,
 "nbformat_minor": 2,
 "cells": [
  {
   "cell_type": "code",
   "execution_count": 39,
   "metadata": {},
   "outputs": [],
   "source": [
    "import requests\n",
    "from bs4 import BeautifulSoup\n",
    "import os\n",
    "import json\n",
    "import pandas as pd"
   ]
  },
  {
   "cell_type": "code",
   "execution_count": 26,
   "metadata": {},
   "outputs": [],
   "source": []
  },
  {
   "cell_type": "code",
   "execution_count": 35,
   "metadata": {},
   "outputs": [],
   "source": [
    "def get_tgt():\n",
    "    url = 'https://utslogin.nlm.nih.gov/cas/v1/api-key'\n",
    "    myobj = {'apikey': os.environ.get('umls_api_key')}\n",
    "    response = requests.post(url, data=myobj)\n",
    "    soup = BeautifulSoup(response.text, 'html.parser')\n",
    "    tgt = soup.find('form').get('action')\n",
    "    return tgt\n",
    "\n",
    "def get_st(tgt):\n",
    "    url = tgt\n",
    "    service = 'http://umlsks.nlm.nih.gov'\n",
    "    myobj = {'service': service}\n",
    "\n",
    "    response = requests.post(url, data=myobj)\n",
    "    st = response.text\n",
    "    return st"
   ]
  },
  {
   "cell_type": "code",
   "execution_count": 53,
   "metadata": {},
   "outputs": [],
   "source": [
    "tgt = get_tgt()"
   ]
  },
  {
   "cell_type": "code",
   "execution_count": 25,
   "metadata": {},
   "outputs": [],
   "source": [
    "os.environ.get('umls_api_key')"
   ]
  },
  {
   "cell_type": "code",
   "execution_count": 52,
   "metadata": {},
   "outputs": [],
   "source": [
    "def search_by_atom(search_term, tgt):\n",
    "    st = get_st(tgt)\n",
    "    x = requests.get(\n",
    "        f'https://uts-ws.nlm.nih.gov/rest/search/current?string={search_term}&ticket={st}')\n",
    "    results = json.loads(x.text)['result']['results']\n",
    "    print(results)\n",
    "    results_df = pd.DataFrame(results)\n",
    "    return results_df"
   ]
  },
  {
   "cell_type": "code",
   "execution_count": 54,
   "metadata": {},
   "outputs": [
    {
     "output_type": "stream",
     "name": "stdout",
     "text": [
      "[{'ui': 'C0008031', 'rootSource': 'MTH', 'uri': 'https://uts-ws.nlm.nih.gov/rest/content/2021AA/CUI/C0008031', 'name': 'Chest Pain'}, {'ui': 'C2926613', 'rootSource': 'MTH', 'uri': 'https://uts-ws.nlm.nih.gov/rest/content/2021AA/CUI/C2926613', 'name': 'Chest pain:Finding:Point in time:^Patient:Ordinal'}, {'ui': 'C0008035', 'rootSource': 'MTH', 'uri': 'https://uts-ws.nlm.nih.gov/rest/content/2021AA/CUI/C0008035', 'name': 'Chest wall pain'}, {'ui': 'C0151826', 'rootSource': 'SNOMEDCT_US', 'uri': 'https://uts-ws.nlm.nih.gov/rest/content/2021AA/CUI/C0151826', 'name': 'Retrosternal pain'}, {'ui': 'C0742302', 'rootSource': 'CCPSS', 'uri': 'https://uts-ws.nlm.nih.gov/rest/content/2021AA/CUI/C0742302', 'name': 'CHEST PAIN SITE ANTERIOR CHEST'}, {'ui': 'C0742304', 'rootSource': 'CCPSS', 'uri': 'https://uts-ws.nlm.nih.gov/rest/content/2021AA/CUI/C0742304', 'name': 'CHEST PAIN SITE LOWER CHEST'}, {'ui': 'C0742305', 'rootSource': 'CCPSS', 'uri': 'https://uts-ws.nlm.nih.gov/rest/content/2021AA/CUI/C0742305', 'name': 'CHEST PAIN SITE POSTERIOR CHEST'}, {'ui': 'C0002962', 'rootSource': 'MTH', 'uri': 'https://uts-ws.nlm.nih.gov/rest/content/2021AA/CUI/C0002962', 'name': 'Angina Pectoris'}, {'ui': 'C0002965', 'rootSource': 'MTH', 'uri': 'https://uts-ws.nlm.nih.gov/rest/content/2021AA/CUI/C0002965', 'name': 'Angina, Unstable'}, {'ui': 'C0008033', 'rootSource': 'MTH', 'uri': 'https://uts-ws.nlm.nih.gov/rest/content/2021AA/CUI/C0008033', 'name': 'Pleuritic pain'}, {'ui': 'C0029537', 'rootSource': 'MTH', 'uri': 'https://uts-ws.nlm.nih.gov/rest/content/2021AA/CUI/C0029537', 'name': 'Other chest pain'}, {'ui': 'C0152172', 'rootSource': 'MTH', 'uri': 'https://uts-ws.nlm.nih.gov/rest/content/2021AA/CUI/C0152172', 'name': 'Angina decubitus'}, {'ui': 'C0231644', 'rootSource': 'SNOMEDCT_US', 'uri': 'https://uts-ws.nlm.nih.gov/rest/content/2021AA/CUI/C0231644', 'name': 'Xiphodynia'}, {'ui': 'C0232285', 'rootSource': 'MTH', 'uri': 'https://uts-ws.nlm.nih.gov/rest/content/2021AA/CUI/C0232285', 'name': 'Dull chest pain'}, {'ui': 'C0232286', 'rootSource': 'MTH', 'uri': 'https://uts-ws.nlm.nih.gov/rest/content/2021AA/CUI/C0232286', 'name': 'Precordial pain'}, {'ui': 'C0232288', 'rootSource': 'SNOMEDCT_US', 'uri': 'https://uts-ws.nlm.nih.gov/rest/content/2021AA/CUI/C0232288', 'name': 'Chest pain on exertion'}, {'ui': 'C0232289', 'rootSource': 'SNOMEDCT_US', 'uri': 'https://uts-ws.nlm.nih.gov/rest/content/2021AA/CUI/C0232289', 'name': 'Radiating chest pain'}, {'ui': 'C0232290', 'rootSource': 'SNOMEDCT_US', 'uri': 'https://uts-ws.nlm.nih.gov/rest/content/2021AA/CUI/C0232290', 'name': 'Crushing chest pain'}, {'ui': 'C0232291', 'rootSource': 'SNOMEDCT_US', 'uri': 'https://uts-ws.nlm.nih.gov/rest/content/2021AA/CUI/C0232291', 'name': 'Pleuropericardial chest pain'}, {'ui': 'C0232533', 'rootSource': 'SNOMEDCT_US', 'uri': 'https://uts-ws.nlm.nih.gov/rest/content/2021AA/CUI/C0232533', 'name': 'Esophageal chest pain'}, {'ui': 'C0235716', 'rootSource': 'MTH', 'uri': 'https://uts-ws.nlm.nih.gov/rest/content/2021AA/CUI/C0235716', 'name': 'Burning Chest Pain'}, {'ui': 'C0238994', 'rootSource': 'DXP', 'uri': 'https://uts-ws.nlm.nih.gov/rest/content/2021AA/CUI/C0238994', 'name': 'CHEST PAIN, NONPLEURITIC'}, {'ui': 'C0238995', 'rootSource': 'MTH', 'uri': 'https://uts-ws.nlm.nih.gov/rest/content/2021AA/CUI/C0238995', 'name': 'sharp chest pain'}, {'ui': 'C0262384', 'rootSource': 'SNOMEDCT_US', 'uri': 'https://uts-ws.nlm.nih.gov/rest/content/2021AA/CUI/C0262384', 'name': 'Atypical chest pain'}, {'ui': 'C0302355', 'rootSource': 'MTH', 'uri': 'https://uts-ws.nlm.nih.gov/rest/content/2021AA/CUI/C0302355', 'name': 'Chest pain NEC in MDR'}]\n"
     ]
    },
    {
     "output_type": "execute_result",
     "data": {
      "text/plain": [
       "          ui   rootSource                                                uri  \\\n",
       "0   C0008031          MTH  https://uts-ws.nlm.nih.gov/rest/content/2021AA...   \n",
       "1   C2926613          MTH  https://uts-ws.nlm.nih.gov/rest/content/2021AA...   \n",
       "2   C0008035          MTH  https://uts-ws.nlm.nih.gov/rest/content/2021AA...   \n",
       "3   C0151826  SNOMEDCT_US  https://uts-ws.nlm.nih.gov/rest/content/2021AA...   \n",
       "4   C0742302        CCPSS  https://uts-ws.nlm.nih.gov/rest/content/2021AA...   \n",
       "5   C0742304        CCPSS  https://uts-ws.nlm.nih.gov/rest/content/2021AA...   \n",
       "6   C0742305        CCPSS  https://uts-ws.nlm.nih.gov/rest/content/2021AA...   \n",
       "7   C0002962          MTH  https://uts-ws.nlm.nih.gov/rest/content/2021AA...   \n",
       "8   C0002965          MTH  https://uts-ws.nlm.nih.gov/rest/content/2021AA...   \n",
       "9   C0008033          MTH  https://uts-ws.nlm.nih.gov/rest/content/2021AA...   \n",
       "10  C0029537          MTH  https://uts-ws.nlm.nih.gov/rest/content/2021AA...   \n",
       "11  C0152172          MTH  https://uts-ws.nlm.nih.gov/rest/content/2021AA...   \n",
       "12  C0231644  SNOMEDCT_US  https://uts-ws.nlm.nih.gov/rest/content/2021AA...   \n",
       "13  C0232285          MTH  https://uts-ws.nlm.nih.gov/rest/content/2021AA...   \n",
       "14  C0232286          MTH  https://uts-ws.nlm.nih.gov/rest/content/2021AA...   \n",
       "15  C0232288  SNOMEDCT_US  https://uts-ws.nlm.nih.gov/rest/content/2021AA...   \n",
       "16  C0232289  SNOMEDCT_US  https://uts-ws.nlm.nih.gov/rest/content/2021AA...   \n",
       "17  C0232290  SNOMEDCT_US  https://uts-ws.nlm.nih.gov/rest/content/2021AA...   \n",
       "18  C0232291  SNOMEDCT_US  https://uts-ws.nlm.nih.gov/rest/content/2021AA...   \n",
       "19  C0232533  SNOMEDCT_US  https://uts-ws.nlm.nih.gov/rest/content/2021AA...   \n",
       "20  C0235716          MTH  https://uts-ws.nlm.nih.gov/rest/content/2021AA...   \n",
       "21  C0238994          DXP  https://uts-ws.nlm.nih.gov/rest/content/2021AA...   \n",
       "22  C0238995          MTH  https://uts-ws.nlm.nih.gov/rest/content/2021AA...   \n",
       "23  C0262384  SNOMEDCT_US  https://uts-ws.nlm.nih.gov/rest/content/2021AA...   \n",
       "24  C0302355          MTH  https://uts-ws.nlm.nih.gov/rest/content/2021AA...   \n",
       "\n",
       "                                                 name  \n",
       "0                                          Chest Pain  \n",
       "1   Chest pain:Finding:Point in time:^Patient:Ordinal  \n",
       "2                                     Chest wall pain  \n",
       "3                                   Retrosternal pain  \n",
       "4                      CHEST PAIN SITE ANTERIOR CHEST  \n",
       "5                         CHEST PAIN SITE LOWER CHEST  \n",
       "6                     CHEST PAIN SITE POSTERIOR CHEST  \n",
       "7                                     Angina Pectoris  \n",
       "8                                    Angina, Unstable  \n",
       "9                                      Pleuritic pain  \n",
       "10                                   Other chest pain  \n",
       "11                                   Angina decubitus  \n",
       "12                                         Xiphodynia  \n",
       "13                                    Dull chest pain  \n",
       "14                                    Precordial pain  \n",
       "15                             Chest pain on exertion  \n",
       "16                               Radiating chest pain  \n",
       "17                                Crushing chest pain  \n",
       "18                       Pleuropericardial chest pain  \n",
       "19                              Esophageal chest pain  \n",
       "20                                 Burning Chest Pain  \n",
       "21                           CHEST PAIN, NONPLEURITIC  \n",
       "22                                   sharp chest pain  \n",
       "23                                Atypical chest pain  \n",
       "24                              Chest pain NEC in MDR  "
      ],
      "text/html": "<div>\n<style scoped>\n    .dataframe tbody tr th:only-of-type {\n        vertical-align: middle;\n    }\n\n    .dataframe tbody tr th {\n        vertical-align: top;\n    }\n\n    .dataframe thead th {\n        text-align: right;\n    }\n</style>\n<table border=\"1\" class=\"dataframe\">\n  <thead>\n    <tr style=\"text-align: right;\">\n      <th></th>\n      <th>ui</th>\n      <th>rootSource</th>\n      <th>uri</th>\n      <th>name</th>\n    </tr>\n  </thead>\n  <tbody>\n    <tr>\n      <th>0</th>\n      <td>C0008031</td>\n      <td>MTH</td>\n      <td>https://uts-ws.nlm.nih.gov/rest/content/2021AA...</td>\n      <td>Chest Pain</td>\n    </tr>\n    <tr>\n      <th>1</th>\n      <td>C2926613</td>\n      <td>MTH</td>\n      <td>https://uts-ws.nlm.nih.gov/rest/content/2021AA...</td>\n      <td>Chest pain:Finding:Point in time:^Patient:Ordinal</td>\n    </tr>\n    <tr>\n      <th>2</th>\n      <td>C0008035</td>\n      <td>MTH</td>\n      <td>https://uts-ws.nlm.nih.gov/rest/content/2021AA...</td>\n      <td>Chest wall pain</td>\n    </tr>\n    <tr>\n      <th>3</th>\n      <td>C0151826</td>\n      <td>SNOMEDCT_US</td>\n      <td>https://uts-ws.nlm.nih.gov/rest/content/2021AA...</td>\n      <td>Retrosternal pain</td>\n    </tr>\n    <tr>\n      <th>4</th>\n      <td>C0742302</td>\n      <td>CCPSS</td>\n      <td>https://uts-ws.nlm.nih.gov/rest/content/2021AA...</td>\n      <td>CHEST PAIN SITE ANTERIOR CHEST</td>\n    </tr>\n    <tr>\n      <th>5</th>\n      <td>C0742304</td>\n      <td>CCPSS</td>\n      <td>https://uts-ws.nlm.nih.gov/rest/content/2021AA...</td>\n      <td>CHEST PAIN SITE LOWER CHEST</td>\n    </tr>\n    <tr>\n      <th>6</th>\n      <td>C0742305</td>\n      <td>CCPSS</td>\n      <td>https://uts-ws.nlm.nih.gov/rest/content/2021AA...</td>\n      <td>CHEST PAIN SITE POSTERIOR CHEST</td>\n    </tr>\n    <tr>\n      <th>7</th>\n      <td>C0002962</td>\n      <td>MTH</td>\n      <td>https://uts-ws.nlm.nih.gov/rest/content/2021AA...</td>\n      <td>Angina Pectoris</td>\n    </tr>\n    <tr>\n      <th>8</th>\n      <td>C0002965</td>\n      <td>MTH</td>\n      <td>https://uts-ws.nlm.nih.gov/rest/content/2021AA...</td>\n      <td>Angina, Unstable</td>\n    </tr>\n    <tr>\n      <th>9</th>\n      <td>C0008033</td>\n      <td>MTH</td>\n      <td>https://uts-ws.nlm.nih.gov/rest/content/2021AA...</td>\n      <td>Pleuritic pain</td>\n    </tr>\n    <tr>\n      <th>10</th>\n      <td>C0029537</td>\n      <td>MTH</td>\n      <td>https://uts-ws.nlm.nih.gov/rest/content/2021AA...</td>\n      <td>Other chest pain</td>\n    </tr>\n    <tr>\n      <th>11</th>\n      <td>C0152172</td>\n      <td>MTH</td>\n      <td>https://uts-ws.nlm.nih.gov/rest/content/2021AA...</td>\n      <td>Angina decubitus</td>\n    </tr>\n    <tr>\n      <th>12</th>\n      <td>C0231644</td>\n      <td>SNOMEDCT_US</td>\n      <td>https://uts-ws.nlm.nih.gov/rest/content/2021AA...</td>\n      <td>Xiphodynia</td>\n    </tr>\n    <tr>\n      <th>13</th>\n      <td>C0232285</td>\n      <td>MTH</td>\n      <td>https://uts-ws.nlm.nih.gov/rest/content/2021AA...</td>\n      <td>Dull chest pain</td>\n    </tr>\n    <tr>\n      <th>14</th>\n      <td>C0232286</td>\n      <td>MTH</td>\n      <td>https://uts-ws.nlm.nih.gov/rest/content/2021AA...</td>\n      <td>Precordial pain</td>\n    </tr>\n    <tr>\n      <th>15</th>\n      <td>C0232288</td>\n      <td>SNOMEDCT_US</td>\n      <td>https://uts-ws.nlm.nih.gov/rest/content/2021AA...</td>\n      <td>Chest pain on exertion</td>\n    </tr>\n    <tr>\n      <th>16</th>\n      <td>C0232289</td>\n      <td>SNOMEDCT_US</td>\n      <td>https://uts-ws.nlm.nih.gov/rest/content/2021AA...</td>\n      <td>Radiating chest pain</td>\n    </tr>\n    <tr>\n      <th>17</th>\n      <td>C0232290</td>\n      <td>SNOMEDCT_US</td>\n      <td>https://uts-ws.nlm.nih.gov/rest/content/2021AA...</td>\n      <td>Crushing chest pain</td>\n    </tr>\n    <tr>\n      <th>18</th>\n      <td>C0232291</td>\n      <td>SNOMEDCT_US</td>\n      <td>https://uts-ws.nlm.nih.gov/rest/content/2021AA...</td>\n      <td>Pleuropericardial chest pain</td>\n    </tr>\n    <tr>\n      <th>19</th>\n      <td>C0232533</td>\n      <td>SNOMEDCT_US</td>\n      <td>https://uts-ws.nlm.nih.gov/rest/content/2021AA...</td>\n      <td>Esophageal chest pain</td>\n    </tr>\n    <tr>\n      <th>20</th>\n      <td>C0235716</td>\n      <td>MTH</td>\n      <td>https://uts-ws.nlm.nih.gov/rest/content/2021AA...</td>\n      <td>Burning Chest Pain</td>\n    </tr>\n    <tr>\n      <th>21</th>\n      <td>C0238994</td>\n      <td>DXP</td>\n      <td>https://uts-ws.nlm.nih.gov/rest/content/2021AA...</td>\n      <td>CHEST PAIN, NONPLEURITIC</td>\n    </tr>\n    <tr>\n      <th>22</th>\n      <td>C0238995</td>\n      <td>MTH</td>\n      <td>https://uts-ws.nlm.nih.gov/rest/content/2021AA...</td>\n      <td>sharp chest pain</td>\n    </tr>\n    <tr>\n      <th>23</th>\n      <td>C0262384</td>\n      <td>SNOMEDCT_US</td>\n      <td>https://uts-ws.nlm.nih.gov/rest/content/2021AA...</td>\n      <td>Atypical chest pain</td>\n    </tr>\n    <tr>\n      <th>24</th>\n      <td>C0302355</td>\n      <td>MTH</td>\n      <td>https://uts-ws.nlm.nih.gov/rest/content/2021AA...</td>\n      <td>Chest pain NEC in MDR</td>\n    </tr>\n  </tbody>\n</table>\n</div>"
     },
     "metadata": {},
     "execution_count": 54
    }
   ],
   "source": [
    "search_by_atom('chest pain', tgt)"
   ]
  },
  {
   "cell_type": "code",
   "execution_count": 55,
   "metadata": {},
   "outputs": [],
   "source": [
    "def atom_to_cui(search_term, tgt):\n",
    "    st = get_st(tgt)\n",
    "    x = requests.get(\n",
    "        f'https://uts-ws.nlm.nih.gov/rest/search/current?string={search_term}&ticket={st}')\n",
    "    results = json.loads(x.text)['result']['results']\n",
    "    return results[0]['ui']"
   ]
  },
  {
   "cell_type": "code",
   "execution_count": 56,
   "metadata": {},
   "outputs": [
    {
     "output_type": "execute_result",
     "data": {
      "text/plain": [
       "'C0008031'"
      ]
     },
     "metadata": {},
     "execution_count": 56
    }
   ],
   "source": [
    "atom_to_cui('chest pain', tgt)"
   ]
  },
  {
   "cell_type": "code",
   "execution_count": null,
   "metadata": {},
   "outputs": [],
   "source": []
  }
 ]
}
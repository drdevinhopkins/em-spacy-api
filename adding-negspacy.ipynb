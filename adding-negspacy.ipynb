{
 "metadata": {
  "language_info": {
   "codemirror_mode": {
    "name": "ipython",
    "version": 3
   },
   "file_extension": ".py",
   "mimetype": "text/x-python",
   "name": "python",
   "nbconvert_exporter": "python",
   "pygments_lexer": "ipython3",
   "version": "3.9.4"
  },
  "orig_nbformat": 2,
  "kernelspec": {
   "name": "python394jvsc74a57bd09f9eba12e426867be2b5dda846bb0767720ed0b719bca446c172ea76a6032e46",
   "display_name": "Python 3.9.4 64-bit ('em-spacy': conda)"
  }
 },
 "nbformat": 4,
 "nbformat_minor": 2,
 "cells": [
  {
   "cell_type": "code",
   "execution_count": 108,
   "metadata": {},
   "outputs": [
    {
     "output_type": "execute_result",
     "data": {
      "text/plain": [
       "<negspacy.negation.Negex at 0x7ff8039d8fd0>"
      ]
     },
     "metadata": {},
     "execution_count": 108
    }
   ],
   "source": [
    "import spacy\n",
    "from pydantic import BaseModel\n",
    "from typing import List\n",
    "\n",
    "import requests\n",
    "import os\n",
    "import json\n",
    "import pandas as pd\n",
    "\n",
    "from scispacy.abbreviation import AbbreviationDetector\n",
    "from scispacy.linking import EntityLinker\n",
    "\n",
    "from negspacy.negation import Negex\n",
    "from negspacy.termsets import termset\n",
    "\n",
    "from spacy.tokens import Span\n",
    "\n",
    "\n",
    "nlp = spacy.load(\"en_core_sci_sm\", disable=[\n",
    "                 \"tok2vec\", \"tagger\", \"attribute_ruler\", \"lemmatizer\"]) #\"parser\"\n",
    "\n",
    "# nlp = spacy.load(\"en_core_sci_sm\")\n",
    "\n",
    "# nlp.add_pipe('sentencizer')\n",
    "\n",
    "ts = termset(\"en_clinical_sensitive\")\n",
    "nlp.add_pipe(\n",
    "    \"negex\",\n",
    "    config={\n",
    "        \"chunk_prefix\": [\"no\", \"denies\"],\n",
    "    },\n",
    "    last=True,\n",
    ")\n"
   ]
  },
  {
   "cell_type": "code",
   "execution_count": 109,
   "metadata": {},
   "outputs": [],
   "source": [
    "text = \"he has cough and fever and no sore throat\"\n",
    "doc = nlp(text)"
   ]
  },
  {
   "cell_type": "code",
   "execution_count": 110,
   "metadata": {},
   "outputs": [
    {
     "output_type": "stream",
     "name": "stdout",
     "text": [
      "cough False\nfever False\nno sore throat True\n"
     ]
    }
   ],
   "source": [
    "for e in doc.ents:\n",
    "    print(e.text, e._.negex)"
   ]
  },
  {
   "cell_type": "code",
   "execution_count": 96,
   "metadata": {},
   "outputs": [
    {
     "output_type": "error",
     "ename": "AttributeError",
     "evalue": "'English' object has no attribute 'entity'",
     "traceback": [
      "\u001b[0;31m---------------------------------------------------------------------------\u001b[0m",
      "\u001b[0;31mAttributeError\u001b[0m                            Traceback (most recent call last)",
      "\u001b[0;32m<ipython-input-96-2142781237df>\u001b[0m in \u001b[0;36m<module>\u001b[0;34m\u001b[0m\n\u001b[0;32m----> 1\u001b[0;31m \u001b[0mnlp\u001b[0m\u001b[0;34m.\u001b[0m\u001b[0mentity\u001b[0m\u001b[0;34m.\u001b[0m\u001b[0mcfg\u001b[0m\u001b[0;34m[\u001b[0m\u001b[0;34mu'actions'\u001b[0m\u001b[0;34m]\u001b[0m\u001b[0;34m\u001b[0m\u001b[0;34m\u001b[0m\u001b[0m\n\u001b[0m",
      "\u001b[0;31mAttributeError\u001b[0m: 'English' object has no attribute 'entity'"
     ]
    }
   ],
   "source": [
    "nlp.entity.cfg[u'actions']"
   ]
  },
  {
   "cell_type": "code",
   "execution_count": null,
   "metadata": {},
   "outputs": [],
   "source": []
  }
 ]
}